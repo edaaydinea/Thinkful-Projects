{
  "nbformat": 4,
  "nbformat_minor": 0,
  "metadata": {
    "colab": {
      "name": "Python Games.ipynb",
      "provenance": [],
      "collapsed_sections": [],
      "include_colab_link": true
    },
    "kernelspec": {
      "name": "python3",
      "display_name": "Python 3"
    }
  },
  "cells": [
    {
      "cell_type": "markdown",
      "metadata": {
        "id": "view-in-github",
        "colab_type": "text"
      },
      "source": [
        "<a href=\"https://colab.research.google.com/github/edaaydinea/games/blob/master/Create_a_Python_Guessing_Game.ipynb\" target=\"_parent\"><img src=\"https://colab.research.google.com/assets/colab-badge.svg\" alt=\"Open In Colab\"/></a>"
      ]
    },
    {
      "cell_type": "code",
      "metadata": {
        "id": "l95meV463TVH",
        "colab_type": "code",
        "colab": {
          "base_uri": "https://localhost:8080/",
          "height": 67
        },
        "outputId": "955a7a92-2fa4-4e38-a9b0-65e747114cd0"
      },
      "source": [
        "print(\"Welcome to Terrence Davis & Eda AYDIN GUESSING GAME!\")\n",
        "print(\"You have 6 attempts at guessing letters in a word!\")\n",
        "print(\"After the 6 tries, It's OVER!\")\n",
        "                                                                                                                                                                                                                                                                                                                                                                                                                                      "
      ],
      "execution_count": 13,
      "outputs": [
        {
          "output_type": "stream",
          "text": [
            "Welcome to Terrence Davis & Eda AYDIN GUESSING GAME!\n",
            "You have 6 attempts at guessing letters in a word!\n",
            "After the 6 tries, It's OVER!\n"
          ],
          "name": "stdout"
        }
      ]
    },
    {
      "cell_type": "code",
      "metadata": {
        "id": "E_Ft_Pc_5hXa",
        "colab_type": "code",
        "colab": {
          "base_uri": "https://localhost:8080/",
          "height": 571
        },
        "outputId": "0256348c-50f7-4133-c155-211e6d25cd90"
      },
      "source": [
        "# This is a library algorithm for our guessing game.\n",
        "\n",
        "import random \n",
        "def get_guess():\n",
        "  # Set the dashes to the length of the hidden word and set the guesses\n",
        "  # We will set 5\n",
        "  dashes = \"-\"* len(secret_word)\n",
        "  guesses_left = 5\n",
        "\n",
        "  # This will as long as BOTH condition are true:\n",
        "  # 1. The number of guesses of left is greater than -1\n",
        "  # 2. The dash string does NOT equal the secret word\n",
        "  while guesses_left > -1 and not dashes == secret_word:\n",
        "    \n",
        "    # Print the amount of dashes and guesses left\n",
        "    print(dashes)\n",
        "    print(str(guesses_left))\n",
        "\n",
        "    # Ask the user for input\n",
        "    guess = input(\"Guess:\")\n",
        "\n",
        "    #Conditions that will print out a message according to wrong guesses.  \n",
        "    if len(guess)!= 1:\n",
        "      print(\"You guess must has exactly one character!\")\n",
        "\n",
        "    elif guess in secret_word:\n",
        "      print(\"That letter is in the secret word!\")\n",
        "      dashes = update_dashes(secret_word,dashes, guess)\n",
        "\n",
        "    else: \n",
        "      print(\"That letter is not in the secret word!\")\n",
        "      guesses_left -=1\n",
        "    \n",
        "  if guesses_left <0:\n",
        "      print(\"You lose. Tha word was:\" + str(secret_word))\n",
        "\n",
        "  else: print(\"Congrats! You wind. The word was:\"+ str(secret_word)) \n",
        "\n",
        "def update_dashes(secret, cur_dash, rec_guess):\n",
        "  result=\"\"\n",
        "\n",
        "  for i in range(len(secret)):\n",
        "    if secret[i]== rec_guess:\n",
        "      result=result + rec_guess\n",
        "    else:\n",
        "      result= result +cur_dash[i]\n",
        "  return result\n",
        "\n",
        "words = [\"Spring\",\"Winter\",\"Autumn\"]\n",
        "\n",
        "secret_word = random.choice(words)\n",
        "get_guess()"
      ],
      "execution_count": 11,
      "outputs": [
        {
          "output_type": "stream",
          "text": [
            "------\n",
            "5\n",
            "Guess:w\n",
            "That letter is not in the secret word!\n",
            "------\n",
            "4\n",
            "Guess:f\n",
            "That letter is not in the secret word!\n",
            "------\n",
            "3\n",
            "Guess:a\n",
            "That letter is not in the secret word!\n",
            "------\n",
            "2\n",
            "Guess:A\n",
            "That letter is in the secret word!\n",
            "A-----\n",
            "2\n",
            "Guess:u\n",
            "That letter is in the secret word!\n",
            "Au-u--\n",
            "2\n",
            "Guess:t\n",
            "That letter is in the secret word!\n",
            "Autu--\n",
            "2\n",
            "Guess:m\n",
            "That letter is in the secret word!\n",
            "Autum-\n",
            "2\n",
            "Guess:n\n",
            "That letter is in the secret word!\n",
            "Congrats! You wind. The word was:Autumn\n"
          ],
          "name": "stdout"
        }
      ]
    }
  ]
}