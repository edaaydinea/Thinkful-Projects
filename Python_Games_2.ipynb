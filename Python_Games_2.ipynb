{
  "nbformat": 4,
  "nbformat_minor": 0,
  "metadata": {
    "colab": {
      "name": "Games.ipynb",
      "provenance": [],
      "collapsed_sections": [],
      "include_colab_link": true
    },
    "kernelspec": {
      "name": "python3",
      "display_name": "Python 3"
    }
  },
  "cells": [
    {
      "cell_type": "markdown",
      "metadata": {
        "id": "view-in-github",
        "colab_type": "text"
      },
      "source": [
        "<a href=\"https://colab.research.google.com/github/edaaydinea/games/blob/master/Python_Games_2.ipynb\" target=\"_parent\"><img src=\"https://colab.research.google.com/assets/colab-badge.svg\" alt=\"Open In Colab\"/></a>"
      ]
    },
    {
      "cell_type": "code",
      "metadata": {
        "id": "ARubQtDWREZX",
        "colab_type": "code",
        "outputId": "76f3e5d4-09fd-4b28-b55b-037959e37c62",
        "colab": {
          "base_uri": "https://localhost:8080/",
          "height": 34
        }
      },
      "source": [
        "print(\" Welcome to Eda AYDIN  Tic Tac Toc game\")"
      ],
      "execution_count": 0,
      "outputs": [
        {
          "output_type": "stream",
          "text": [
            " Welcome to Eda AYDIN  Tic Tac Toc game\n"
          ],
          "name": "stdout"
        }
      ]
    },
    {
      "cell_type": "code",
      "metadata": {
        "id": "aT-YyuLAUdmN",
        "colab_type": "code",
        "outputId": "06b00337-aa56-484b-f80c-98d3bec4b91e",
        "colab": {
          "base_uri": "https://localhost:8080/",
          "height": 34
        }
      },
      "source": [
        "print(\"Tic Tac Tow boxes from 1 to 9\")"
      ],
      "execution_count": 0,
      "outputs": [
        {
          "output_type": "stream",
          "text": [
            "Tic Tac Tow boxes from 1 to 9\n"
          ],
          "name": "stdout"
        }
      ]
    },
    {
      "cell_type": "code",
      "metadata": {
        "id": "WtRG7T5QUigB",
        "colab_type": "code",
        "outputId": "8720aa73-f07d-4ff0-fa53-63f24d378395",
        "colab": {
          "base_uri": "https://localhost:8080/",
          "height": 34
        }
      },
      "source": [
        "print(\"1 is the top left box and 9 is considered the bottom right\")"
      ],
      "execution_count": 0,
      "outputs": [
        {
          "output_type": "stream",
          "text": [
            "1 is the top left box and 9 is considered the bottom right\n"
          ],
          "name": "stdout"
        }
      ]
    },
    {
      "cell_type": "code",
      "metadata": {
        "id": "j5ZXW5GeUpHl",
        "colab_type": "code",
        "outputId": "2dda1af7-fa22-4279-c4fd-8c0d10cd86e7",
        "colab": {
          "base_uri": "https://localhost:8080/",
          "height": 34
        }
      },
      "source": [
        "print(\"Let's Play!\")"
      ],
      "execution_count": 0,
      "outputs": [
        {
          "output_type": "stream",
          "text": [
            "Let's Play!\n"
          ],
          "name": "stdout"
        }
      ]
    },
    {
      "cell_type": "code",
      "metadata": {
        "id": "tx3GRY21UuqX",
        "colab_type": "code",
        "outputId": "11dba619-8035-4d28-e330-a2f08b47cd96",
        "colab": {
          "base_uri": "https://localhost:8080/",
          "height": 437
        }
      },
      "source": [
        "import random\n",
        "\n",
        "# Contains functions (for simple words) relevant for creating games\n",
        "# Allow your Python program to interact within system in a more efficient way\n",
        "import sys\n",
        "\n",
        "board = [i for i in range(0,9)]\n",
        "player, computer = '',''\n",
        "\n",
        "#This is how you create the parameters for the game\n",
        "moves = ((1,7,3,9),(5,),(2,4,6,8))\n",
        "\n",
        "# Setup combinations to win\n",
        "winners = ((0,1,2),(3,4,5),(6,7,8),(0,3,6),(1,4,7),(2,5,8),(0,4,8),(2,4,6))\n",
        "\n",
        "#Setup Table\n",
        "tab = range(1,10)\n",
        "\n",
        "def print_board():\n",
        "  x=1\n",
        "  for i in board:\n",
        "    end= '|'\n",
        "    if x%3 ==0:\n",
        "      end = '\\n'\n",
        "      if i != 1: end+ '----------\\n';\n",
        "    char = ''\n",
        "    if i in ('X','O'): char = i;\n",
        "    x+=1\n",
        "    print(char, end = end)\n",
        "\n",
        "def select_char():\n",
        "  chars = ('X','O')\n",
        "  if random.randint(0,1) == 0:\n",
        "    return chars[::-1]\n",
        "  return chars\n",
        "\n",
        "def can_move(brd, player, move):\n",
        "  if move in tab and brd[move-1] == move-1:\n",
        "    return True\n",
        "  return False\n",
        "\n",
        "def can_win (brd, player, move):\n",
        "  places=[]\n",
        "  x=0\n",
        "  for i in brd:\n",
        "    if i == player: places.append(x);\n",
        "    x +=1\n",
        "  win = True\n",
        "  for tup in winners:\n",
        "    win= True\n",
        "    for ix in tup:\n",
        "      if brd[ix]!= player:\n",
        "        win= False\n",
        "        break\n",
        "    if win == True:\n",
        "      break\n",
        "  return win\n",
        "\n",
        "def make_move(brd, player, move, undo= False):\n",
        "  if can_move(brd, player, move):\n",
        "    brd[move-1]= player\n",
        "    win = can_win(brd,player,move)\n",
        "    if undo:\n",
        "      brd[move-1]= move-1\n",
        "    return (True, win)\n",
        "  return (False, False)\n",
        "\n",
        "#Gameplay functions go here for player and computer\n",
        "def computer_move():\n",
        "  move=-1\n",
        "\n",
        "  #When player make these moves the palyer win\n",
        "  for i in range(1,10):\n",
        "    if make_move(board, computer, i, True)[1]:\n",
        "      move =i\n",
        "      break\n",
        "    if move == -1:\n",
        "      #If player can win, block him.\n",
        "      for i in range (1,10):\n",
        "        if make_move(board, player, i , True)[1]:\n",
        "          move=i\n",
        "          break\n",
        "    if move == -1:\n",
        "      # Try to win\n",
        "      for tup in moves:\n",
        "        for mv in tup:\n",
        "          if move == -1 and can_move(board,computer, mv):\n",
        "            move = mv\n",
        "            break\n",
        "    return make_move(board, computer, move)\n",
        "\n",
        "def space_exist():\n",
        "    return board. count('X')+ board.count('O')!=9 \n",
        "      \n",
        "player, computer = select_char()\n",
        "print('Player is [%s] and computer is [%s]' %(player, computer)) \n",
        "result = '%%% Deuce! %%%'   \n",
        "while space_exist():\n",
        "  print_board()\n",
        "  print('Lets Play! [Press 1-9 to choose your move!]:', end='')\n",
        "  move = int (input())\n",
        "  moved, won = make_move(board,player, move)\n",
        "  if not moved:\n",
        "    print(\">> Invalid number! Try again!\")\n",
        "    continue\n",
        "  if won:\n",
        "    result= \" *** You're the Winner! ***\"\n",
        "    break\n",
        "  elif computer_move()[1]:\n",
        "    result= \" === You are a loser :( ==== \"\n",
        "    break\n",
        "\n",
        "print_board()\n",
        "print(result)"
      ],
      "execution_count": 18,
      "outputs": [
        {
          "output_type": "stream",
          "text": [
            "Player is [X] and computer is [O]\n",
            "||\n",
            "||\n",
            "||\n",
            "Lets Play! [Press 1-9 to choose your move!]:2\n",
            "O|X|\n",
            "||\n",
            "||\n",
            "Lets Play! [Press 1-9 to choose your move!]:7\n",
            "O|X|O\n",
            "||\n",
            "X||\n",
            "Lets Play! [Press 1-9 to choose your move!]:9\n",
            "O|X|O\n",
            "||\n",
            "X|O|X\n",
            "Lets Play! [Press 1-9 to choose your move!]:5\n",
            "O|X|O\n",
            "O|X|\n",
            "X|O|X\n",
            "Lets Play! [Press 1-9 to choose your move!]:6\n",
            "O|X|O\n",
            "O|X|X\n",
            "X|O|X\n",
            "%%% Deuce! %%%\n"
          ],
          "name": "stdout"
        }
      ]
    },
    {
      "cell_type": "code",
      "metadata": {
        "id": "-uPOSIxAV_e4",
        "colab_type": "code",
        "colab": {}
      },
      "source": [
        ""
      ],
      "execution_count": 0,
      "outputs": []
    }
  ]
}